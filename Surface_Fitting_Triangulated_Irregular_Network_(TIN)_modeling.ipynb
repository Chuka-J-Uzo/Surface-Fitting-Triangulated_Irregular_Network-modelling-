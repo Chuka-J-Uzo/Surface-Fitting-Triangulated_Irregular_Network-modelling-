{
  "nbformat": 4,
  "nbformat_minor": 0,
  "metadata": {
    "colab": {
      "provenance": [],
      "mount_file_id": "1K2dRBWR8Ga5xWQ9xm99YBbkdrxFRR33p",
      "authorship_tag": "ABX9TyO96EQhhTJNHFwOTdbnLruQ"
    },
    "kernelspec": {
      "name": "python3",
      "display_name": "Python 3"
    },
    "language_info": {
      "name": "python"
    }
  },
  "cells": [
    {
      "cell_type": "markdown",
      "source": [
        "- Here, we attempt to use Triangulated Irregular Network (TIN) modeling to reconstruct a volume using a set of cloud points in 3D space. TIN involves constructing a mesh of triangular facets to represent the surface of the object. The vertices of the triangles are defined by the points in the point cloud, and the surface is then approximated by connecting these points with triangular facets.\n",
        "\n",
        "<br>\n",
        "\n",
        "- TIN modeling is a good option for fitting a surface to a set of point clouds in 3 dimensions, and below, we implement it using some Python libraries such as scikit-learn or PySurfer."
      ],
      "metadata": {
        "id": "MA_OweKi5uBX"
      }
    },
    {
      "cell_type": "code",
      "source": [
        "# Install necessary modules\n",
        "\n",
        "#!pip install numpy_stl\n"
      ],
      "metadata": {
        "colab": {
          "base_uri": "https://localhost:8080/"
        },
        "id": "Ll6eM20TJqbt",
        "outputId": "9f157b0c-2c71-4a15-b567-fa4520ccdfa3"
      },
      "execution_count": 68,
      "outputs": [
        {
          "output_type": "stream",
          "name": "stdout",
          "text": [
            "Looking in indexes: https://pypi.org/simple, https://us-python.pkg.dev/colab-wheels/public/simple/\n",
            "Requirement already satisfied: numpy_stl in /usr/local/lib/python3.8/dist-packages (3.0.0)\n",
            "Requirement already satisfied: numpy in /usr/local/lib/python3.8/dist-packages (from numpy_stl) (1.21.6)\n",
            "Requirement already satisfied: python-utils>=3.4.5 in /usr/local/lib/python3.8/dist-packages (from numpy_stl) (3.4.5)\n"
          ]
        }
      ]
    },
    {
      "cell_type": "code",
      "execution_count": 69,
      "metadata": {
        "id": "iYVvue0t4rWv"
      },
      "outputs": [],
      "source": [
        "# Import the python modules\n",
        "\n",
        "import pandas as pd\n",
        "from sklearn.preprocessing import PolynomialFeatures\n",
        "from sklearn.linear_model import LinearRegression\n"
      ]
    },
    {
      "cell_type": "code",
      "source": [
        "df.columns"
      ],
      "metadata": {
        "colab": {
          "base_uri": "https://localhost:8080/"
        },
        "id": "WKVXXQP_jZVJ",
        "outputId": "e6f5dbe9-0432-49b9-eacf-dd440810cfbf"
      },
      "execution_count": 111,
      "outputs": [
        {
          "output_type": "execute_result",
          "data": {
            "text/plain": [
              "Index(['x', 'y', 'z'], dtype='object')"
            ]
          },
          "metadata": {},
          "execution_count": 111
        }
      ]
    },
    {
      "cell_type": "code",
      "source": [
        "import pandas as pd\n",
        "\n",
        "# Load the data into a pandas DataFrame\n",
        "data = pd.read_csv('/content/drive/MyDrive/Datasets/Monkey_Head_coordinates/pavillion2.csv')\n",
        "\n",
        "\n",
        "data = data.drop(columns=['y', 'z'])\n",
        "\n",
        "data[['x', 'y', 'z']] = data['x'].str.split(',', expand=True)\n",
        "\n"
      ],
      "metadata": {
        "id": "WezRNl-mkdjW"
      },
      "execution_count": 108,
      "outputs": []
    },
    {
      "cell_type": "code",
      "source": [
        "data.head()"
      ],
      "metadata": {
        "colab": {
          "base_uri": "https://localhost:8080/",
          "height": 206
        },
        "id": "wk4ACkX0ooKp",
        "outputId": "974777c2-b379-4191-ce13-f87d4360a99f"
      },
      "execution_count": 110,
      "outputs": [
        {
          "output_type": "execute_result",
          "data": {
            "text/plain": [
              "                   x                 y                  z\n",
              "0   202.157959218265  2.45151495933533  37.86828301443535\n",
              "1  202.1998178913607  4.87631464004517   37.8677519370504\n",
              "2  202.2496378376498  7.27234745025635  37.86691526665169\n",
              "3  202.3076326801791  9.63988304138184  37.86578087105232\n",
              "4  202.3754923298373  12.0277643203735  37.86432359709221"
            ],
            "text/html": [
              "\n",
              "  <div id=\"df-206254b9-1976-4d76-86bb-8ebb8285c274\">\n",
              "    <div class=\"colab-df-container\">\n",
              "      <div>\n",
              "<style scoped>\n",
              "    .dataframe tbody tr th:only-of-type {\n",
              "        vertical-align: middle;\n",
              "    }\n",
              "\n",
              "    .dataframe tbody tr th {\n",
              "        vertical-align: top;\n",
              "    }\n",
              "\n",
              "    .dataframe thead th {\n",
              "        text-align: right;\n",
              "    }\n",
              "</style>\n",
              "<table border=\"1\" class=\"dataframe\">\n",
              "  <thead>\n",
              "    <tr style=\"text-align: right;\">\n",
              "      <th></th>\n",
              "      <th>x</th>\n",
              "      <th>y</th>\n",
              "      <th>z</th>\n",
              "    </tr>\n",
              "  </thead>\n",
              "  <tbody>\n",
              "    <tr>\n",
              "      <th>0</th>\n",
              "      <td>202.157959218265</td>\n",
              "      <td>2.45151495933533</td>\n",
              "      <td>37.86828301443535</td>\n",
              "    </tr>\n",
              "    <tr>\n",
              "      <th>1</th>\n",
              "      <td>202.1998178913607</td>\n",
              "      <td>4.87631464004517</td>\n",
              "      <td>37.8677519370504</td>\n",
              "    </tr>\n",
              "    <tr>\n",
              "      <th>2</th>\n",
              "      <td>202.2496378376498</td>\n",
              "      <td>7.27234745025635</td>\n",
              "      <td>37.86691526665169</td>\n",
              "    </tr>\n",
              "    <tr>\n",
              "      <th>3</th>\n",
              "      <td>202.3076326801791</td>\n",
              "      <td>9.63988304138184</td>\n",
              "      <td>37.86578087105232</td>\n",
              "    </tr>\n",
              "    <tr>\n",
              "      <th>4</th>\n",
              "      <td>202.3754923298373</td>\n",
              "      <td>12.0277643203735</td>\n",
              "      <td>37.86432359709221</td>\n",
              "    </tr>\n",
              "  </tbody>\n",
              "</table>\n",
              "</div>\n",
              "      <button class=\"colab-df-convert\" onclick=\"convertToInteractive('df-206254b9-1976-4d76-86bb-8ebb8285c274')\"\n",
              "              title=\"Convert this dataframe to an interactive table.\"\n",
              "              style=\"display:none;\">\n",
              "        \n",
              "  <svg xmlns=\"http://www.w3.org/2000/svg\" height=\"24px\"viewBox=\"0 0 24 24\"\n",
              "       width=\"24px\">\n",
              "    <path d=\"M0 0h24v24H0V0z\" fill=\"none\"/>\n",
              "    <path d=\"M18.56 5.44l.94 2.06.94-2.06 2.06-.94-2.06-.94-.94-2.06-.94 2.06-2.06.94zm-11 1L8.5 8.5l.94-2.06 2.06-.94-2.06-.94L8.5 2.5l-.94 2.06-2.06.94zm10 10l.94 2.06.94-2.06 2.06-.94-2.06-.94-.94-2.06-.94 2.06-2.06.94z\"/><path d=\"M17.41 7.96l-1.37-1.37c-.4-.4-.92-.59-1.43-.59-.52 0-1.04.2-1.43.59L10.3 9.45l-7.72 7.72c-.78.78-.78 2.05 0 2.83L4 21.41c.39.39.9.59 1.41.59.51 0 1.02-.2 1.41-.59l7.78-7.78 2.81-2.81c.8-.78.8-2.07 0-2.86zM5.41 20L4 18.59l7.72-7.72 1.47 1.35L5.41 20z\"/>\n",
              "  </svg>\n",
              "      </button>\n",
              "      \n",
              "  <style>\n",
              "    .colab-df-container {\n",
              "      display:flex;\n",
              "      flex-wrap:wrap;\n",
              "      gap: 12px;\n",
              "    }\n",
              "\n",
              "    .colab-df-convert {\n",
              "      background-color: #E8F0FE;\n",
              "      border: none;\n",
              "      border-radius: 50%;\n",
              "      cursor: pointer;\n",
              "      display: none;\n",
              "      fill: #1967D2;\n",
              "      height: 32px;\n",
              "      padding: 0 0 0 0;\n",
              "      width: 32px;\n",
              "    }\n",
              "\n",
              "    .colab-df-convert:hover {\n",
              "      background-color: #E2EBFA;\n",
              "      box-shadow: 0px 1px 2px rgba(60, 64, 67, 0.3), 0px 1px 3px 1px rgba(60, 64, 67, 0.15);\n",
              "      fill: #174EA6;\n",
              "    }\n",
              "\n",
              "    [theme=dark] .colab-df-convert {\n",
              "      background-color: #3B4455;\n",
              "      fill: #D2E3FC;\n",
              "    }\n",
              "\n",
              "    [theme=dark] .colab-df-convert:hover {\n",
              "      background-color: #434B5C;\n",
              "      box-shadow: 0px 1px 3px 1px rgba(0, 0, 0, 0.15);\n",
              "      filter: drop-shadow(0px 1px 2px rgba(0, 0, 0, 0.3));\n",
              "      fill: #FFFFFF;\n",
              "    }\n",
              "  </style>\n",
              "\n",
              "      <script>\n",
              "        const buttonEl =\n",
              "          document.querySelector('#df-206254b9-1976-4d76-86bb-8ebb8285c274 button.colab-df-convert');\n",
              "        buttonEl.style.display =\n",
              "          google.colab.kernel.accessAllowed ? 'block' : 'none';\n",
              "\n",
              "        async function convertToInteractive(key) {\n",
              "          const element = document.querySelector('#df-206254b9-1976-4d76-86bb-8ebb8285c274');\n",
              "          const dataTable =\n",
              "            await google.colab.kernel.invokeFunction('convertToInteractive',\n",
              "                                                     [key], {});\n",
              "          if (!dataTable) return;\n",
              "\n",
              "          const docLinkHtml = 'Like what you see? Visit the ' +\n",
              "            '<a target=\"_blank\" href=https://colab.research.google.com/notebooks/data_table.ipynb>data table notebook</a>'\n",
              "            + ' to learn more about interactive tables.';\n",
              "          element.innerHTML = '';\n",
              "          dataTable['output_type'] = 'display_data';\n",
              "          await google.colab.output.renderOutput(dataTable, element);\n",
              "          const docLink = document.createElement('div');\n",
              "          docLink.innerHTML = docLinkHtml;\n",
              "          element.appendChild(docLink);\n",
              "        }\n",
              "      </script>\n",
              "    </div>\n",
              "  </div>\n",
              "  "
            ]
          },
          "metadata": {},
          "execution_count": 110
        }
      ]
    },
    {
      "cell_type": "code",
      "source": [
        "import pandas as pd\n",
        "from scipy.spatial import Delaunay\n",
        "from stl import mesh\n",
        "from numpy import array\n",
        "\n",
        "# Load the point clouds from a CSV file\n",
        "df = pd.read_csv('/content/drive/MyDrive/Datasets/Monkey_Head_coordinates/pavillion2.csv')\n",
        "\n",
        "df = df.drop(columns=['y', 'z'])\n",
        "\n",
        "df[['x', 'y', 'z']] = df['x'].str.split(',', expand=True)\n",
        "\n",
        "# Extract the x, y, and z coordinates from the DataFrame\n",
        "x = df['x'].values\n",
        "y = df['y'].values\n",
        "z = df['z'].values\n",
        "\n",
        "tri = Delaunay(X)\n",
        "\n",
        "# Create a mesh object from the triangulation\n",
        "surface_mesh = mesh.Mesh(np.zeros(tri.simplices.shape[0], dtype=mesh.Mesh.dtype))\n",
        "for i, f in enumerate(tri.simplices):\n",
        "    for j in range(3):\n",
        "        surface_mesh.vectors[i][j] = X[f[j]]\n",
        "\n",
        "# Save the mesh as an STL file\n",
        "surface_mesh.save('surface_mesh.stl')"
      ],
      "metadata": {
        "id": "phE66PltyMA0"
      },
      "execution_count": 138,
      "outputs": []
    },
    {
      "cell_type": "code",
      "source": [],
      "metadata": {
        "id": "-PxY9mOC0nMN"
      },
      "execution_count": null,
      "outputs": []
    }
  ]
}